{
  "nbformat": 4,
  "nbformat_minor": 0,
  "metadata": {
    "colab": {
      "provenance": []
    },
    "kernelspec": {
      "name": "python3",
      "display_name": "Python 3"
    },
    "language_info": {
      "name": "python"
    }
  },
  "cells": [
    {
      "cell_type": "code",
      "source": [
        "import random\n",
        "import string"
      ],
      "metadata": {
        "id": "dRiqoNHZpsoW"
      },
      "execution_count": 9,
      "outputs": []
    },
    {
      "cell_type": "code",
      "source": [
        "def generate_password(min_length, numbers = True, special_characters = True):\n",
        "  letters = string.ascii_letters\n",
        "  digits = string.digits\n",
        "  special = string.punctuation\n",
        "\n",
        "  characters = letters\n",
        "  if numbers:\n",
        "    characters += digits\n",
        "  if special_characters:\n",
        "    characters += special\n",
        "\n",
        "  pwd = ''\n",
        "  meets_criteria = False\n",
        "  has_number = False\n",
        "  has_special = False\n",
        "\n",
        "  while not meets_criteria or len(pwd) < min_length:\n",
        "    new_char = random.choice(characters)\n",
        "    pwd += new_char\n",
        "\n",
        "    if new_char in digits:\n",
        "      has_number = True\n",
        "    elif new_char in special:\n",
        "      has_special = True\n",
        "\n",
        "    meets_criteria = True\n",
        "    if numbers:\n",
        "      meets_criteria = has_number\n",
        "    if special_characters:\n",
        "      meets_criteria = meets_criteria and has_special\n",
        "\n",
        "  return pwd"
      ],
      "metadata": {
        "id": "L2RgJGYU96fi"
      },
      "execution_count": 10,
      "outputs": []
    },
    {
      "cell_type": "code",
      "source": [
        "lenght = int(input(\"Please enter the minimum number of charecters in the password: \"))\n",
        "has_number = input(\"Do you wan to have numbers?(y/n)\").lower() == \"y\"\n",
        "has_special = input(\"Do you want to have special characters?(y/n)\").lower() == \"y\"\n",
        "\n",
        "generate_password(lenght, has_number, has_special)"
      ],
      "metadata": {
        "colab": {
          "base_uri": "https://localhost:8080/",
          "height": 90
        },
        "id": "WyJtoFIKB6ch",
        "outputId": "3d56b4cb-1a7b-4503-eb34-8af98b259c19"
      },
      "execution_count": 13,
      "outputs": [
        {
          "name": "stdout",
          "output_type": "stream",
          "text": [
            "Please enter the minimum number of charecters in the password: 20\n",
            "Do you wan to have numbers?(y/n)n\n",
            "Do you want to have special characters?(y/n)n\n"
          ]
        },
        {
          "output_type": "execute_result",
          "data": {
            "text/plain": [
              "'kQXoKMDOyzkcREEKQNKm'"
            ],
            "application/vnd.google.colaboratory.intrinsic+json": {
              "type": "string"
            }
          },
          "metadata": {},
          "execution_count": 13
        }
      ]
    }
  ]
}